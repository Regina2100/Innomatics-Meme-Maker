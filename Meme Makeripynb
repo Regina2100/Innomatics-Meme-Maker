{
 "cells": [
  {
   "cell_type": "code",
   "execution_count": 23,
   "id": "829c21ae-8ac9-44d2-b04e-9a8acdd28fa2",
   "metadata": {},
   "outputs": [],
   "source": [
    "from PIL import Image, ImageDraw, ImageFont"
   ]
  },
  {
   "cell_type": "code",
   "execution_count": 25,
   "id": "759f0868-9a6b-43c9-a3e9-c411b2a628e0",
   "metadata": {},
   "outputs": [],
   "source": [
    "img = Image.open(\"meme_3.jpg\").convert(\"RGB\") "
   ]
  },
  {
   "cell_type": "code",
   "execution_count": 26,
   "id": "27a009e8-6b3a-44af-ac2a-9512365ce143",
   "metadata": {},
   "outputs": [],
   "source": [
    "draw = ImageDraw.Draw(img)\n",
    "font = ImageFont.truetype(\"arial.ttf\", 40)"
   ]
  },
  {
   "cell_type": "code",
   "execution_count": 27,
   "id": "4e8d0c5e-d303-4d2e-b5a3-491496bab778",
   "metadata": {},
   "outputs": [],
   "source": [
    "top_text = \"WHEN YOU LEARN\"\n",
    "bottom_text = \"AI AND ML WITHOUT BASICS\"\n",
    "image_width, image_height = img.size"
   ]
  },
  {
   "cell_type": "code",
   "execution_count": 28,
   "id": "9f67eaac-6746-4201-91f2-50d6bb8c94c6",
   "metadata": {},
   "outputs": [],
   "source": [
    "top_text_bbox = draw.textbbox((0, 0), top_text, font=font)\n",
    "bottom_text_bbox = draw.textbbox((0, 0), bottom_text, font=font)"
   ]
  },
  {
   "cell_type": "code",
   "execution_count": 29,
   "id": "ac7ff211-29ca-4779-b012-326eb640dc22",
   "metadata": {},
   "outputs": [],
   "source": [
    "top_text_width, top_text_height = top_text_bbox[2] - top_text_bbox[0], top_text_bbox[3] - top_text_bbox[1]\n",
    "bottom_text_width, bottom_text_height = bottom_text_bbox[2] - bottom_text_bbox[0], bottom_text_bbox[3] - bottom_text_bbox[1]\n",
    "\n",
    "# Set the text position (centered)\n",
    "top_text_position = ((image_width - top_text_width) // 2, 10)\n",
    "bottom_text_position = ((image_width - bottom_text_width) // 2, image_height - bottom_text_height - 10)\n",
    "\n",
    "# Apply the text on the image\n",
    "draw.text(top_text_position, top_text, font=font, fill=\"black\")\n",
    "draw.text(bottom_text_position, bottom_text, font=font, fill=\"black\")\n",
    "\n",
    "# Save the final image\n",
    "img.save(\"meme_output.jpg\")"
   ]
  },
  {
   "cell_type": "code",
   "execution_count": null,
   "id": "e11bbcec-2e4d-4705-ad8c-bfa44b4f7ae6",
   "metadata": {},
   "outputs": [],
   "source": []
  },
  {
   "cell_type": "code",
   "execution_count": null,
   "id": "62f16427-84df-4506-90c7-1404cbfc7ef8",
   "metadata": {},
   "outputs": [],
   "source": []
  }
 ],
 "metadata": {
  "kernelspec": {
   "display_name": "Python 3 (ipykernel)",
   "language": "python",
   "name": "python3"
  },
  "language_info": {
   "codemirror_mode": {
    "name": "ipython",
    "version": 3
   },
   "file_extension": ".py",
   "mimetype": "text/x-python",
   "name": "python",
   "nbconvert_exporter": "python",
   "pygments_lexer": "ipython3",
   "version": "3.12.0"
  }
 },
 "nbformat": 4,
 "nbformat_minor": 5
}
